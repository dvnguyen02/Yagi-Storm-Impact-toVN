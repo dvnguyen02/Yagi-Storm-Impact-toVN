{
 "cells": [
  {
   "cell_type": "code",
   "execution_count": 42,
   "metadata": {},
   "outputs": [],
   "source": [
    "import pdfplumber \n",
    "import pandas as pd\n",
    "import csv\n",
    "import re\n",
    "from tqdm import tqdm \n"
   ]
  },
  {
   "cell_type": "code",
   "execution_count": 64,
   "metadata": {},
   "outputs": [],
   "source": [
    "def extract_text_from_pdf(pdf_path, start_page=0, end_page=None, max_pages=None):\n",
    "    all_text = []\n",
    "    with pdfplumber.open(pdf_path) as pdf:\n",
    "        total_pages = len(pdf.pages)\n",
    "        end_page = min(end_page or total_pages, start_page + (max_pages or total_pages))\n",
    "        pages_to_process = min(end_page - start_page, max_pages or float('inf'))\n",
    "        \n",
    "        print(f\"Processing {pages_to_process} pages (from page {start_page + 1} to {end_page})\")\n",
    "        \n",
    "        for page_num in tqdm(range(start_page, end_page), desc=\"Extracting pages\"):\n",
    "            page = pdf.pages[page_num]\n",
    "            all_text.append(page.extract_text())\n",
    "    \n",
    "    return '\\n'.join(all_text)"
   ]
  },
  {
   "cell_type": "code",
   "execution_count": 65,
   "metadata": {},
   "outputs": [],
   "source": [
    "def parse_bank_statement(text):\n",
    "    lines = text.split('\\n')\n",
    "    data = []\n",
    "    columns = ['Ngày GD/ TNX Date', 'Số CT/ Doc No', 'Số tiền ghi nợ/ Debit', 'Số tiền ghi có/ Credit', 'Số dư/ Balance', 'Nội dung chi tiết/ Transactions in detail']\n",
    "    \n",
    "    for line in lines:\n",
    "        match = re.match(r'(\\d{2}/\\d{2}/\\d{4})\\s+(\\d+\\.\\d+)', line)\n",
    "        if match:\n",
    "            date, doc_no = match.groups()\n",
    "            parts = re.split(r'\\s{2,}', line)\n",
    "            if len(parts) >= 6:\n",
    "                debit = parts[2] if parts[2] != '' else '0'\n",
    "                credit = parts[3] if parts[3] != '' else '0'\n",
    "                balance = parts[4]\n",
    "                details = ' '.join(parts[5:])\n",
    "                data.append([f\"{date}\", doc_no, debit, credit, balance, details])\n",
    "    \n",
    "    return pd.DataFrame(data, columns=columns)"
   ]
  },
  {
   "cell_type": "code",
   "execution_count": 66,
   "metadata": {},
   "outputs": [],
   "source": [
    "def process_pdf(pdf_path, output_csv, max_pages=None):\n",
    "    text = extract_text_from_pdf(pdf_path, max_pages=max_pages)\n",
    "    df = parse_bank_statement(text)\n",
    "    df.to_csv(output_csv, index=False)\n",
    "    print(f\"CSV file has been created: {output_csv}\")\n",
    "    print(f\"Processed {len(df)} transactions.\")"
   ]
  },
  {
   "cell_type": "code",
   "execution_count": null,
   "metadata": {},
   "outputs": [],
   "source": [
    "pdf_path=\"from1-09to10-09.pdf\"\n",
    "output_csv = \"output_bank_statement.csv\"\n",
    "process_pdf(pdf_path, output_csv, max_pages=200)"
   ]
  }
 ],
 "metadata": {
  "kernelspec": {
   "display_name": "base",
   "language": "python",
   "name": "python3"
  },
  "language_info": {
   "codemirror_mode": {
    "name": "ipython",
    "version": 3
   },
   "file_extension": ".py",
   "mimetype": "text/x-python",
   "name": "python",
   "nbconvert_exporter": "python",
   "pygments_lexer": "ipython3",
   "version": "3.11.7"
  }
 },
 "nbformat": 4,
 "nbformat_minor": 2
}
