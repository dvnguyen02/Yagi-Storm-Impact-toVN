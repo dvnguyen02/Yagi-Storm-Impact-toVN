{
 "cells": [
  {
   "cell_type": "code",
   "execution_count": null,
   "metadata": {},
   "outputs": [],
   "source": [
    "import pdfplumber\n",
    "import csv\n",
    "import re\n",
    "from datetime import datetime\n",
    "\n",
    "def extract_table_data(pdf_path, output_csv, start_page=1, end_page=None, chunk_size=50):\n",
    "    all_data = []\n",
    "    current_page = start_page\n",
    "\n",
    "    with pdfplumber.open(pdf_path) as pdf:\n",
    "        total_pages = len(pdf.pages)\n",
    "        end_page = min(end_page or total_pages, total_pages)\n",
    "\n",
    "        while current_page <= end_page:\n",
    "            chunk_end = min(current_page + chunk_size - 1, end_page)\n",
    "            print(f\"Processing pages {current_page} to {chunk_end}\")\n",
    "\n",
    "            for page_num in range(current_page - 1, chunk_end):\n",
    "                page = pdf.pages[page_num]\n",
    "                text = page.extract_text()\n",
    "                lines = text.split('\\n')\n",
    "\n",
    "                for line in lines:\n",
    "                    if re.match(r'\\d{2}/\\d{2}/\\d{4}', line):\n",
    "                        parts = re.split(r'\\s{2,}', line)\n",
    "                        if len(parts) >= 5:\n",
    "                            date = parts[0]\n",
    "                            doc_no = parts[1]\n",
    "                            debit = parts[2] if parts[2] != '' else '0'\n",
    "                            credit = parts[3] if parts[3] != '' else '0'\n",
    "                            balance = parts[4]\n",
    "                            description = ' '.join(parts[5:]) if len(parts) > 5 else ''\n",
    "                            all_data.append([date, doc_no, debit, credit, balance, description])\n",
    "\n",
    "            current_page = chunk_end + 1\n",
    "\n",
    "    with open(output_csv, 'w', newline='', encoding='utf-8') as csvfile:\n",
    "        writer = csv.writer(csvfile)\n",
    "        writer.writerow(['Date', 'Doc No', 'Debit', 'Credit', 'Balance', 'Description'])\n",
    "        writer.writerows(all_data)\n",
    "\n",
    "    print(f\"Data extracted and saved to {output_csv}\")\n",
    "\n",
    "# Usage\n",
    "pdf_path = 'from1-09to10-09.pdf'\n",
    "output_csv = f'account_statement_{datetime.now().strftime(\"%Y%m%d_%H%M%S\")}.csv'\n",
    "extract_table_data(pdf_path, output_csv, start_page=1, end_page=200, chunk_size=50)"
   ]
  }
 ],
 "metadata": {
  "kernelspec": {
   "display_name": "base",
   "language": "python",
   "name": "python3"
  },
  "language_info": {
   "codemirror_mode": {
    "name": "ipython",
    "version": 3
   },
   "file_extension": ".py",
   "mimetype": "text/x-python",
   "name": "python",
   "nbconvert_exporter": "python",
   "pygments_lexer": "ipython3",
   "version": "3.11.7"
  }
 },
 "nbformat": 4,
 "nbformat_minor": 2
}
